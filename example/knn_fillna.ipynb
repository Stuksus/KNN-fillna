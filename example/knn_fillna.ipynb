{
 "cells": [
  {
   "cell_type": "code",
   "execution_count": null,
   "metadata": {},
   "outputs": [],
   "source": [
    "import pandas as pd\n",
    "import numpy as np\n",
    "from sklearn.preprocessing import LabelEncoder\n",
    "frame=pd.read_csv('train.csv')\n",
    "pd.set_option('display.max.columns',100)"
   ]
  },
  {
   "cell_type": "code",
   "execution_count": null,
   "metadata": {},
   "outputs": [],
   "source": [
    "frame.drop(['Id','PoolQC','MiscFeature','Alley','Fence'],axis=1,inplace=True)"
   ]
  },
  {
   "cell_type": "code",
   "execution_count": null,
   "metadata": {},
   "outputs": [],
   "source": [
    "class fillna_knn(object):\n",
    "    def __init__(self, dataframe, flag):\n",
    "        self.inplace = flag\n",
    "        if self.inplace:\n",
    "            self.dataset = dataframe.copy()\n",
    "        else:\n",
    "            self.dataset = dataframe\n",
    "        self.unique_cat = []\n",
    "        self.encoder = LabelEncoder()\n",
    "\n",
    "    def fill(self):\n",
    "        self.__encoding()  # При создании объекта кодируем датафрейм\n",
    "        self.count_nan = sum(self.dataset.isnull().sum())\n",
    "        print(self.count_nan)\n",
    "        while self.count_nan > 0:\n",
    "            for column in self.dataset.columns.values:\n",
    "                for row in range(len(self.dataset)):\n",
    "                    if pd.isnull(self.dataset[column][row]):\n",
    "                        df = self.__new_dataset(column)\n",
    "                        total, target = self.__preparing_data(df, row, column)\n",
    "                        self.dataset[column][row] = self.__nearest_neighbor(total, target)\n",
    "                        self.count_nan = sum(self.dataset.isnull().sum())\n",
    "        self.dataset[self.object_col] = self.dataset[self.object_col].astype('int')\n",
    "        self.__decoding()\n",
    "        return self.dataset\n",
    "\n",
    "    def __dist(self, first_vector, second_vector):\n",
    "        first_vector = np.array(first_vector)\n",
    "        distance = (sum((first_vector - second_vector) ** 2)) ** 0.5\n",
    "        return distance\n",
    "\n",
    "    def __without_nan(self, column_val):  # пропуск NaN при кодировании\n",
    "        final_column_val = [0] * len(column_val)\n",
    "        for index, element in enumerate(column_val):\n",
    "            if element is not np.nan:\n",
    "                final_column_val[index] = self.encoder.transform([column_val[index]])[0]\n",
    "            else:\n",
    "                final_column_val[index] = element\n",
    "        return final_column_val\n",
    "\n",
    "    def __encoding(self):\n",
    "        # сбор категориальных признаков\n",
    "        self.object_col = self.dataset.describe(include=['O']).columns.values\n",
    "        for col in self.object_col:\n",
    "            self.unique_cat += list(self.dataset[col].unique())\n",
    "        self.unique_cat = list(set(self.unique_cat))\n",
    "        index_del_nan = self.unique_cat.index(np.nan)\n",
    "        self.unique_cat.pop(index_del_nan)\n",
    "        # кодирование полученных признаков\n",
    "        self.encoder.fit(self.unique_cat)\n",
    "        self.dataset[self.object_col] = self.dataset[self.object_col].apply(lambda col: self.__without_nan(col))\n",
    "\n",
    "    def __new_dataset(self, column):\n",
    "        dataframe = self.dataset.copy()\n",
    "        for index, val in enumerate(dataframe[column]):\n",
    "            if pd.isnull(val):\n",
    "                dataframe.drop([index], axis=0, inplace=True)\n",
    "        dataframe.dropna(inplace=True)\n",
    "        return dataframe\n",
    "\n",
    "    def __preparing_data(self, data, row, column):\n",
    "        # выделяем целевую строчку\n",
    "        target_row = self.dataset.iloc[row].drop([column], inplace=False)\n",
    "        # выделяем целевой столбец\n",
    "        target_column = data[column].copy()\n",
    "        # удаляем целевой столбец из датасета\n",
    "        data = data.drop([column], axis=1)\n",
    "        # объединяем строку  и класс(значение целевого столбца) соответсвующий ей\n",
    "        total = []\n",
    "        if len(target_column) == len(data):\n",
    "            for i in range(len(data)):\n",
    "                total.append([data.iloc[i], target_column.iloc[i]])\n",
    "        else:\n",
    "            raise SystemExit('Целевая колонка не равна по длине основный данным')\n",
    "        return total, target_row\n",
    "\n",
    "    def __nearest_neighbor(self, total, test_point):\n",
    "        test_dist = [[self.__dist(test_point, data[0]), data[1]] for data in total]\n",
    "        return sorted(test_dist)[0:1][0][1]\n",
    "\n",
    "    def __decoding(self):\n",
    "        self.dataset[self.object_col] = self.dataset[self.object_col].apply(\n",
    "            lambda col: self.encoder.inverse_transform(col))"
   ]
  },
  {
   "cell_type": "code",
   "execution_count": null,
   "metadata": {
    "scrolled": true
   },
   "outputs": [],
   "source": [
    "%%time\n",
    "obj=fillna_knn(frame,1)\n",
    "answ=obj.fill()"
   ]
  },
  {
   "cell_type": "code",
   "execution_count": null,
   "metadata": {},
   "outputs": [],
   "source": []
  }
 ],
 "metadata": {
  "kernelspec": {
   "display_name": "Python 3",
   "language": "python",
   "name": "python3"
  },
  "language_info": {
   "codemirror_mode": {
    "name": "ipython",
    "version": 3
   },
   "file_extension": ".py",
   "mimetype": "text/x-python",
   "name": "python",
   "nbconvert_exporter": "python",
   "pygments_lexer": "ipython3",
   "version": "3.7.4"
  }
 },
 "nbformat": 4,
 "nbformat_minor": 2
}
