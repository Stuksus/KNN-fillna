{
 "cells": [
  {
   "cell_type": "code",
   "execution_count": 203,
   "metadata": {},
   "outputs": [],
   "source": [
    "import pandas as pd\n",
    "import numpy as np\n",
    "from sklearn.preprocessing import LabelEncoder\n",
    "frame=pd.read_csv('train.csv')\n",
    "pd.set_option('display.max.columns',100)"
   ]
  },
  {
   "cell_type": "code",
   "execution_count": 237,
   "metadata": {},
   "outputs": [],
   "source": [
    "class fillna_knn(object):\n",
    "    def __init__(self,dataframe,flag):\n",
    "        if flag:\n",
    "            self.dataset=dataframe.copy()\n",
    "        else:\n",
    "            self.dataset=dataframe\n",
    "        self.unique_cat=[]\n",
    "        self.encoder=LabelEncoder()\n",
    "        \n",
    "    def fit(self):\n",
    "        self.__encoding() #При создании объекта кодируем датафрейм\n",
    "        self.count_nan=self.dataset.isnull().sum()\n",
    "        while self.count_nan > 0:\n",
    "            for  column in self.dataset.columns.values:\n",
    "                for row in range(len(self.dataset)):\n",
    "                    if self.dataset[column][row] is np.nan:\n",
    "                        pass\n",
    "        \n",
    "    def __dist(self,first_vector,second_vector):\n",
    "        first_vector=np.array(first_vector)\n",
    "        distance=(sum((float(first_vector)-float(second_vector))**2))**0.5\n",
    "        return distance\n",
    "    \n",
    "    def __without_nan(self,column_val): # пропуск NaN при кодировании\n",
    "        final_column_val=[0]*len(column_val)\n",
    "        for index,element in enumerate(column_val):\n",
    "            if element is not np.nan:\n",
    "                final_column_val[index]=self.encoder.transform([column_val[index]])[0]\n",
    "            else:\n",
    "                final_column_val[index]=element\n",
    "        return final_column_val\n",
    "        \n",
    "    def __encoding(self):\n",
    "        #сбор категориальных признаков\n",
    "        self.object_col=self.dataset.describe(include=['O']).columns.values\n",
    "        for col in self.object_col:\n",
    "            self.unique_cat+=list(self.dataset[col].unique())\n",
    "        self.unique_cat=list(set(self.unique_cat))\n",
    "        index_del_nan=self.unique_cat.index(np.nan)\n",
    "        self.unique_cat.pop(index_del_nan)\n",
    "        #кодирование полученных признаков\n",
    "        self.encoder.fit(self.unique_cat)\n",
    "        self.dataset[self.object_col]=self.dataset[self.object_col].apply(lambda col: self.__without_nan(col))\n",
    "        print(self.dataset)\n",
    "    \n",
    "        \n",
    "    "
   ]
  },
  {
   "cell_type": "code",
   "execution_count": 238,
   "metadata": {},
   "outputs": [],
   "source": [
    "obj=fillna_knn(frame,1)\n",
    "obj.fit()"
   ]
  }
 ],
 "metadata": {
  "kernelspec": {
   "display_name": "Python 3",
   "language": "python",
   "name": "python3"
  },
  "language_info": {
   "codemirror_mode": {
    "name": "ipython",
    "version": 3
   },
   "file_extension": ".py",
   "mimetype": "text/x-python",
   "name": "python",
   "nbconvert_exporter": "python",
   "pygments_lexer": "ipython3",
   "version": "3.7.4"
  }
 },
 "nbformat": 4,
 "nbformat_minor": 2
}
